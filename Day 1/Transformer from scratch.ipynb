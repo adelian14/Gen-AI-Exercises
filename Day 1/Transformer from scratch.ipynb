{
  "nbformat": 4,
  "nbformat_minor": 0,
  "metadata": {
    "colab": {
      "provenance": []
    },
    "kernelspec": {
      "name": "python3",
      "display_name": "Python 3"
    },
    "language_info": {
      "name": "python"
    }
  },
  "cells": [
    {
      "cell_type": "markdown",
      "source": [
        "Imports"
      ],
      "metadata": {
        "id": "sNrRiIlXw6se"
      }
    },
    {
      "cell_type": "code",
      "source": [
        "import numpy as np\n",
        "import torch\n",
        "import torch.nn as nn\n",
        "import torch.nn.functional as F\n",
        "import matplotlib.pyplot as plt\n",
        "import re\n",
        "import random\n",
        "from collections import defaultdict, Counter\n",
        "# Set random seeds for reproducibility\n",
        "torch.manual_seed(42)\n",
        "np.random.seed(42)\n",
        "random.seed(42)\n",
        "device = torch.device('cuda' if torch.cuda.is_available() else 'cpu')\n",
        "print(f\"Using device: {device}\")"
      ],
      "metadata": {
        "colab": {
          "base_uri": "https://localhost:8080/"
        },
        "id": "t7bBmxV2wynG",
        "outputId": "2a8f3733-bc8c-4f80-de87-7b0ec9eb6028"
      },
      "execution_count": null,
      "outputs": [
        {
          "output_type": "stream",
          "name": "stdout",
          "text": [
            "Using device: cpu\n"
          ]
        }
      ]
    },
    {
      "cell_type": "code",
      "source": [
        "corpus = [\n",
        "    \"Large Language Models (LLMs) are powerful deep learning systems trained on massive datasets to understand and generate human-like text.\",\n",
        "    \"The architecture of most state-of-the-art LLMs, such as GPT and BERT, is based on the transformer model, which uses self-attention mechanisms to process sequential data.\",\n",
        "    \"Training an LLM involves processing vast amounts of text data, often scraped from the internet, to learn statistical patterns in language.\",\n",
        "    \"These models are capable of performing a variety of natural language processing tasks including translation, summarization, question answering, and code generation.\",\n",
        "    \"While early LLMs were primarily used in research settings, modern LLMs are now embedded into consumer applications, chatbots, search engines, and virtual assistants.\",\n",
        "    \"Despite their impressive capabilities, LLMs often produce outputs that are grammatically correct but factually incorrect, a phenomenon known as hallucination.\",\n",
        "    \"Fine-tuning allows developers to adapt a pre-trained LLM to specific tasks or domains by training it further on a smaller, targeted dataset.\",\n",
        "    \"One of the key advantages of LLMs is their ability to perform zero-shot or few-shot learning, making accurate predictions from limited examples.\",\n",
        "    \"The context window of an LLM defines how much information it can consider at once, with recent models supporting several thousand tokens of input.\",\n",
        "    \"Tokenization is a crucial preprocessing step in LLMs, where raw text is broken into manageable pieces (tokens) that the model can understand.\",\n",
        "    \"LLMs rely on large-scale parallel processing hardware, such as GPUs or TPUs, to train efficiently across billions of parameters.\",\n",
        "    \"Ethical concerns surrounding LLMs include potential misuse for generating disinformation, impersonation, and reinforcing harmful biases.\",\n",
        "    \"Mitigating bias in LLMs is an ongoing challenge, requiring both better training data and improved evaluation techniques.\",\n",
        "    \"LLMs trained on general corpora may lack domain-specific knowledge, necessitating fine-tuning or retrieval-augmented generation techniques.\",\n",
        "    \"Some LLMs incorporate external tools or plugins to extend their capabilities beyond language, such as calling APIs or performing calculations.\",\n",
        "    \"Transformer-based LLMs process input text in parallel rather than sequentially, improving computational efficiency compared to older RNNs.\",\n",
        "    \"Attention heads in a transformer model help the LLM focus on different parts of the input sequence when making predictions.\",\n",
        "    \"Self-supervised learning, the backbone of LLM training, enables the model to learn from raw text without requiring labeled data.\",\n",
        "    \"Prompt engineering is a technique to guide LLM outputs by carefully crafting the input query to elicit the desired response.\",\n",
        "    \"LLMs exhibit emergent behaviors, where capabilities suddenly appear as the model size surpasses a certain threshold.\",\n",
        "    \"Multimodal LLMs like GPT-4o can process text, images, and even audio, unlocking more diverse and complex applications.\",\n",
        "    \"Inference in LLMs involves generating output by sampling from the model’s probability distribution over possible next tokens.\",\n",
        "    \"Deterministic decoding strategies like greedy search and beam search provide consistent outputs but can reduce creativity.\",\n",
        "    \"Sampling-based decoding techniques such as top-k and nucleus sampling offer more diverse and human-like text generation.\",\n",
        "    \"Temperature is a hyperparameter in decoding that controls the randomness of the model’s outputs, affecting creativity and diversity.\",\n",
        "    \"Open-source LLMs like LLaMA and Mistral have democratized access to cutting-edge models, encouraging innovation in research and development.\",\n",
        "    \"Many LLMs now support instruction tuning, making them more responsive and aligned with user intents during dialogue.\",\n",
        "    \"Despite impressive capabilities, LLMs lack true understanding and operate as pattern recognition systems rather than reasoning agents.\",\n",
        "    \"Researchers are exploring hybrid models that combine LLMs with symbolic reasoning to overcome their limitations in logic and abstraction.\",\n",
        "    \"Training LLMs raises environmental concerns due to the large carbon footprint associated with high-performance computing resources.\",\n",
        "    \"Quantization is a technique to reduce LLM model size and inference cost by using lower precision formats like int8 instead of float32.\",\n",
        "    \"Distillation creates smaller, faster models by training a compact student model to imitate the behavior of a larger teacher model.\",\n",
        "    \"Alignment refers to ensuring LLM behavior matches human values and intentions, often enforced through reinforcement learning with human feedback.\",\n",
        "    \"Evaluating LLMs is complex, requiring metrics that capture fluency, relevance, factual accuracy, and safety of generated content.\",\n",
        "    \"LLMs can be integrated into retrieval-augmented generation systems to combine language generation with factual grounding from external sources.\",\n",
        "    \"Guardrails and moderation systems are essential when deploying LLMs to filter out unsafe, harmful, or toxic content.\",\n",
        "    \"The rapid development of LLMs is reshaping industries such as education, healthcare, law, and entertainment.\",\n",
        "    \"Personalized LLM applications tailor responses to individual users by incorporating memory and user preference profiles.\",\n",
        "    \"The performance of LLMs can vary significantly depending on the prompt phrasing, input format, and task instructions.\",\n",
        "    \"Cross-lingual LLMs are trained on multiple languages and can translate or generate text across different linguistic systems.\",\n",
        "    \"Some LLMs are optimized for low-resource languages to bridge the digital divide and enable global AI access.\",\n",
        "    \"Model interpretability remains a major research area, as LLMs are often seen as black boxes with limited transparency.\",\n",
        "    \"Tools like attention visualization and feature attribution are being developed to provide insights into LLM decision-making.\",\n",
        "    \"LLMs are susceptible to adversarial attacks, where inputs are crafted to trick the model into producing incorrect outputs.\",\n",
        "    \"Security risks include prompt injection, where a user manipulates input prompts to subvert intended model behavior.\",\n",
        "    \"Federated learning and on-device LLMs are emerging to enhance user privacy by keeping data local and decentralized.\",\n",
        "    \"LLMs may inadvertently memorize and reproduce sensitive data from their training sets, raising privacy and legal concerns.\",\n",
        "    \"Despite being trained for text, LLMs show surprising ability to reason over structured data like tables and code.\",\n",
        "    \"The future of LLMs likely involves combining them with tools, memory, reasoning modules, and autonomous agents.\",\n",
        "    \"Developers must remain vigilant and thoughtful when integrating LLMs, balancing innovation with ethical responsibility.\"\n",
        "]\n",
        "\n",
        "# Example: print first 5 lines\n",
        "print(corpus[:5])\n",
        "corpus = ''.join(corpus)"
      ],
      "metadata": {
        "id": "LpMKQyt7ah79",
        "colab": {
          "base_uri": "https://localhost:8080/"
        },
        "outputId": "d1ac7c33-b39c-41d2-b8b5-14eb9e92bcb2"
      },
      "execution_count": null,
      "outputs": [
        {
          "output_type": "stream",
          "name": "stdout",
          "text": [
            "['Large Language Models (LLMs) are powerful deep learning systems trained on massive datasets to understand and generate human-like text.', 'The architecture of most state-of-the-art LLMs, such as GPT and BERT, is based on the transformer model, which uses self-attention mechanisms to process sequential data.', 'Training an LLM involves processing vast amounts of text data, often scraped from the internet, to learn statistical patterns in language.', 'These models are capable of performing a variety of natural language processing tasks including translation, summarization, question answering, and code generation.', 'While early LLMs were primarily used in research settings, modern LLMs are now embedded into consumer applications, chatbots, search engines, and virtual assistants.']\n"
          ]
        }
      ]
    },
    {
      "cell_type": "markdown",
      "source": [
        " 2.1 Preparing a Simple Dataset"
      ],
      "metadata": {
        "id": "nJL2n-25xHDW"
      }
    },
    {
      "cell_type": "code",
      "source": [
        "# Clean the text\n",
        "corpus = corpus.strip().lower()\n",
        "sentences = [s.strip() for s in corpus.split('.') if s.strip()]\n",
        "print(f\"Number of sentences: {len(sentences)}\")\n",
        "print(f\"Sample sentence: {sentences[0]}\")\n"
      ],
      "metadata": {
        "colab": {
          "base_uri": "https://localhost:8080/"
        },
        "id": "4Y3PzHh0xJ2_",
        "outputId": "0f962c3d-3722-4705-9c50-d2b3f58f02db"
      },
      "execution_count": null,
      "outputs": [
        {
          "output_type": "stream",
          "name": "stdout",
          "text": [
            "Number of sentences: 50\n",
            "Sample sentence: large language models (llms) are powerful deep learning systems trained on massive datasets to understand and generate human-like text\n"
          ]
        }
      ]
    },
    {
      "cell_type": "markdown",
      "source": [
        "2.2 Implementing a Simple Tokenizer"
      ],
      "metadata": {
        "id": "jGwOJj_Zxg24"
      }
    },
    {
      "cell_type": "code",
      "source": [
        "class BPETokenizer:\n",
        "    def __init__(self, vocab_size=1000, unk_token=\"<unk>\"):\n",
        "        self.vocab_size = vocab_size\n",
        "        self.unk_token = unk_token\n",
        "        self.bpe_codes = {}\n",
        "        self.token_to_id = {}\n",
        "        self.id_to_token = {}\n",
        "\n",
        "    def get_stats(self, tokens):\n",
        "        \"\"\"Compute frequencies of adjacent symbol pairs.\"\"\"\n",
        "        pairs = defaultdict(int)\n",
        "        for word, freq in tokens.items():\n",
        "            symbols = word.split()\n",
        "            for i in range(len(symbols) - 1):\n",
        "                pairs[(symbols[i], symbols[i+1])] += freq\n",
        "        return pairs\n",
        "\n",
        "    def merge_vocab(self, pair, tokens):\n",
        "        \"\"\"Merge the most frequent pair into a single token.\"\"\"\n",
        "        new_tokens = {}\n",
        "        bigram = ' '.join(pair)\n",
        "        replacement = ''.join(pair)\n",
        "        for word in tokens:\n",
        "            new_word = word.replace(bigram, replacement)\n",
        "            new_tokens[new_word] = tokens[word]\n",
        "        return new_tokens\n",
        "\n",
        "    def fit(self, texts):\n",
        "        # Step 1: Build initial vocabulary of characters\n",
        "        tokens = Counter()\n",
        "        for text in texts:\n",
        "            for word in text.strip().split():\n",
        "                tokens[' '.join(list(word)) + ' </w>'] += 1  # </w> denotes end of word\n",
        "\n",
        "        # Step 2: Perform BPE merges\n",
        "        while len(self.bpe_codes) < self.vocab_size:\n",
        "            pairs = self.get_stats(tokens)\n",
        "            if not pairs:\n",
        "                break\n",
        "            most_freq = max(pairs, key=pairs.get)\n",
        "            self.bpe_codes[most_freq] = len(self.bpe_codes)\n",
        "            tokens = self.merge_vocab(most_freq, tokens)\n",
        "\n",
        "        # Step 3: Build token-to-id mappings\n",
        "        subwords = set()\n",
        "        for word in tokens:\n",
        "            subwords.update(word.split())\n",
        "        subwords = sorted(list(subwords))\n",
        "        self.token_to_id = {token: idx for idx, token in enumerate(subwords)}\n",
        "        self.token_to_id[self.unk_token] = len(self.token_to_id)\n",
        "        self.id_to_token = {idx: token for token, idx in self.token_to_id.items()}\n",
        "        return self\n",
        "\n",
        "    def encode_word(self, word):\n",
        "        symbols = list(word) + ['</w>']\n",
        "        while True:\n",
        "            # 1) If there are fewer than 2 symbols, stop.\n",
        "            if len(symbols) < 2:\n",
        "                break\n",
        "\n",
        "            # 2) Build all adjacent pair scores\n",
        "            pairs = [(symbols[i], symbols[i+1]) for i in range(len(symbols) - 1)]\n",
        "            merge_candidates = {\n",
        "                pair: self.bpe_codes.get(pair, float('inf'))\n",
        "                for pair in pairs\n",
        "            }\n",
        "\n",
        "            # 3) If none of those pairs is actually in your codes, stop.\n",
        "            best_pair, best_score = min(merge_candidates.items(), key=lambda kv: kv[1])\n",
        "            if best_score == float('inf'):\n",
        "                break\n",
        "\n",
        "            # 4) Otherwise merge and repeat.\n",
        "            i = pairs.index(best_pair)\n",
        "            symbols = symbols[:i] + [''.join(best_pair)] + symbols[i+2:]\n",
        "\n",
        "        # map to ids…\n",
        "        return [self.token_to_id.get(sym, self.token_to_id[self.unk_token])\n",
        "                for sym in symbols]\n",
        "\n",
        "\n",
        "    def encode(self, text):\n",
        "        tokens = []\n",
        "        for word in text.strip().split():\n",
        "            tokens.extend(self.encode_word(word))\n",
        "        return tokens\n",
        "\n",
        "    def decode(self, ids):\n",
        "        tokens = [self.id_to_token.get(idx, self.unk_token) for idx in ids]\n",
        "        words = []\n",
        "        current_word = \"\"\n",
        "\n",
        "        for token in tokens:\n",
        "            if token == self.unk_token:\n",
        "                continue  # skip unknown tokens\n",
        "            if token.endswith(\"</w>\"):\n",
        "                current_word += token.replace(\"</w>\", \"\")\n",
        "                words.append(current_word)\n",
        "                current_word = \"\"\n",
        "            else:\n",
        "                current_word += token\n",
        "        if current_word:\n",
        "            words.append(current_word)\n",
        "\n",
        "        return ' '.join(words)\n",
        "\n",
        "\n",
        "    def __len__(self):\n",
        "        return len(self.token_to_id)\n",
        "\n",
        " # Create and fit the tokenizer\n",
        "tokenizer = BPETokenizer().fit(sentences)\n",
        "print(f\"Vocabulary size: {len(tokenizer)}\")\n",
        "# Test encoding and decoding\n",
        "sample_text = sentences[0]\n",
        "encoded = tokenizer.encode(sample_text)\n",
        "decoded = tokenizer.decode(encoded)\n",
        "print(f\"Original: {sample_text}\")\n",
        "print(f\"Encoded: {encoded}...\")\n",
        "print(f\"Decoded: {decoded}\")"
      ],
      "metadata": {
        "colab": {
          "base_uri": "https://localhost:8080/"
        },
        "id": "zv-iK8m6xndg",
        "outputId": "9804805b-e92f-4129-f9dc-55ef429320de"
      },
      "execution_count": null,
      "outputs": [
        {
          "output_type": "stream",
          "name": "stdout",
          "text": [
            "Vocabulary size: 567\n",
            "Original: large language models (llms) are powerful deep learning systems trained on massive datasets to understand and generate human-like text\n",
            "Encoded: [286, 283, 329, 0, 566, 566, 365, 566, 566, 201, 124, 566, 566, 479, 517, 351, 566, 566, 566, 566, 4, 443, 530, 507, 566, 566, 566, 566, 28, 28, 566, 40, 566, 566, 566, 566, 3, 296, 493]...\n",
            "Decoded: large language models (llms) pful deep systems trained on asets to and and at-like text\n"
          ]
        }
      ]
    },
    {
      "cell_type": "code",
      "source": [
        "class WordTokenizer:\n",
        "    def __init__(self, min_frequency=2):\n",
        "        self.word_to_idx = {}\n",
        "        self.idx_to_word = {}\n",
        "        self.vocab_size = 0\n",
        "        self.min_frequency = min_frequency\n",
        "        self.unk_token = \"\"\n",
        "\n",
        "    def fit(self, texts):\n",
        "        words = set()\n",
        "        for text in texts:\n",
        "            for word in text.split(' '):\n",
        "                words.add(word)\n",
        "        sorted_words = sorted(words)\n",
        "        self.word_to_idx = {word: idx for idx, word in enumerate(sorted_words)}\n",
        "        self.idx_to_word = {idx: word for word, idx in self.word_to_idx.items()}\n",
        "        self.vocab_size = len(self.word_to_idx)\n",
        "        return self\n",
        "\n",
        "    def encode(self, text):\n",
        "        return [self.word_to_idx[word] for word in text.split(' ')]\n",
        "\n",
        "    def decode(self, indices):\n",
        "        words = [self.idx_to_word[idx] for idx in indices]\n",
        "        return ' '.join(words)\n",
        "\n",
        "    def __len__(self):\n",
        "        return self.vocab_size\n",
        " # Create and fit the tokenizer\n",
        "tokenizer = WordTokenizer().fit(sentences)\n",
        "print(f\"Vocabulary size: {len(tokenizer)}\")\n",
        "# Test encoding and decoding\n",
        "sample_text = sentences[0]\n",
        "encoded = tokenizer.encode(sample_text)\n",
        "decoded = tokenizer.decode(encoded)\n",
        "print(f\"Original: {sample_text}\")\n",
        "print(f\"Encoded: {encoded}...\")\n",
        "print(f\"Decoded: {decoded}\")"
      ],
      "metadata": {
        "colab": {
          "base_uri": "https://localhost:8080/"
        },
        "id": "l-t9GBVIQ12l",
        "outputId": "e75df108-1bb9-4aa4-f126-5d5eb16ccbe1"
      },
      "execution_count": null,
      "outputs": [
        {
          "output_type": "stream",
          "name": "stdout",
          "text": [
            "Vocabulary size: 498\n",
            "Original: large language models (llms) are powerful deep learning systems trained on massive datasets to understand and generate human-like text\n",
            "Encoded: [250, 247, 289, 0, 27, 340, 104, 255, 431, 462, 310, 276, 100, 453, 473, 20, 176, 200, 441]...\n",
            "Decoded: large language models (llms) are powerful deep learning systems trained on massive datasets to understand and generate human-like text\n"
          ]
        }
      ]
    },
    {
      "cell_type": "markdown",
      "source": [
        "2.3 Creating Training Data"
      ],
      "metadata": {
        "id": "3fCl-F7_yDnM"
      }
    },
    {
      "cell_type": "code",
      "source": [
        "def prepare_data(sentences, tokenizer, seq_length=20):\n",
        "    \"\"\"Prepare input-output pairs for training\"\"\"\n",
        "    inputs = []\n",
        "    targets = []\n",
        "    for sentence in sentences:\n",
        "        # Skip sentences that are too short\n",
        "        words = sentence.split(' ')\n",
        "        if len(words) <= seq_length + 1:\n",
        "            continue\n",
        "\n",
        "        # Tokenize the sentence\n",
        "        tokens = tokenizer.encode(sentence)\n",
        "        # Create input-target pairs with a sliding window\n",
        "        for i in range(len(tokens) - seq_length):\n",
        "            input_seq = tokens[i:i+seq_length]\n",
        "            target_seq = tokens[i+1:i+seq_length+1]  # Next token prediction\n",
        "\n",
        "            inputs.append(input_seq)\n",
        "            targets.append(target_seq)\n",
        "\n",
        "    # Convert to PyTorch tensors\n",
        "    inputs = torch.tensor(inputs, dtype=torch.long)\n",
        "    targets = torch.tensor(targets, dtype=torch.long)\n",
        "\n",
        "    return inputs, targets\n",
        " # Prepare training data\n",
        "seq_length = 10\n",
        "inputs, targets = prepare_data(sentences, tokenizer, seq_length)\n",
        "print(f\"Number of training examples: {len(inputs)}\")\n",
        "print(f\"Input shape: {inputs.shape}\")\n",
        "print(f\"Target shape: {targets.shape}\")\n",
        "# Sample data point\n",
        "idx = 0\n",
        "print(f\"Sample input: {tokenizer.decode(inputs[idx].tolist())}\")\n",
        "print(f\"Sample target: {tokenizer.decode(targets[idx].tolist())}\")"
      ],
      "metadata": {
        "colab": {
          "base_uri": "https://localhost:8080/"
        },
        "id": "zAfDjJ-Yx9jA",
        "outputId": "25c1f349-0b07-4afe-af33-9eb32428deb9"
      },
      "execution_count": null,
      "outputs": [
        {
          "output_type": "stream",
          "name": "stdout",
          "text": [
            "Number of training examples: 412\n",
            "Input shape: torch.Size([412, 10])\n",
            "Target shape: torch.Size([412, 10])\n",
            "Sample input: large language models (llms) are powerful deep learning systems trained\n",
            "Sample target: language models (llms) are powerful deep learning systems trained on\n"
          ]
        }
      ]
    },
    {
      "cell_type": "markdown",
      "source": [
        " 2.4 Implementing the Embedding Layer"
      ],
      "metadata": {
        "id": "Vjq0rQrmyPx_"
      }
    },
    {
      "cell_type": "code",
      "source": [
        "class EmbeddingLayer(nn.Module):\n",
        "    def __init__(self, vocab_size, embed_dim):\n",
        "        super(EmbeddingLayer, self).__init__()\n",
        "        self.embedding = nn.Embedding(vocab_size, embed_dim)\n",
        "        self.embed_dim = embed_dim\n",
        "\n",
        "    def forward(self, x):\n",
        "        # x shape: (batch_size, seq_length)\n",
        "        # output shape: (batch_size, seq_length, embed_dim)\n",
        "        return self.embedding(x) * (self.embed_dim ** 0.5)  # Scaling factor\n",
        " # Test the embedding layer\n",
        "vocab_size = len(tokenizer)\n",
        "embed_dim = 32\n",
        "embedding_layer = EmbeddingLayer(vocab_size, embed_dim)\n",
        "sample_batch = inputs[:3]  # Take 3 examples\n",
        "embedded = embedding_layer(sample_batch)\n",
        "print(f\"Sample batch shape: {sample_batch.shape}\")\n",
        "print(f\"Embedded output shape: {embedded.shape}\")"
      ],
      "metadata": {
        "colab": {
          "base_uri": "https://localhost:8080/"
        },
        "id": "x8ea6arJyHA7",
        "outputId": "27d2fee6-b21e-4b53-d1f1-a1febb316d6f"
      },
      "execution_count": null,
      "outputs": [
        {
          "output_type": "stream",
          "name": "stdout",
          "text": [
            "Sample batch shape: torch.Size([3, 10])\n",
            "Embedded output shape: torch.Size([3, 10, 32])\n"
          ]
        }
      ]
    },
    {
      "cell_type": "markdown",
      "source": [
        "2.5 Implementing Positional Encoding"
      ],
      "metadata": {
        "id": "xV8Vzqk9ybIN"
      }
    },
    {
      "cell_type": "code",
      "source": [
        "class PositionalEncoding(nn.Module):\n",
        "    def __init__(self, embed_dim, max_seq_length=5000):\n",
        "        super(PositionalEncoding, self).__init__()\n",
        "\n",
        "        # Create positional encoding matrix\n",
        "        pe = torch.zeros(max_seq_length, embed_dim)\n",
        "        position = torch.arange(0, max_seq_length, dtype=torch.float).unsqueeze(1)\n",
        "        div_term = torch.exp(torch.arange(0, embed_dim, 2).float() * (-np.log(10000.0) / embed_dim))\n",
        "\n",
        "        # Apply sine to even indices\n",
        "        pe[:, 0::2] = torch.sin(position * div_term)\n",
        "        # Apply cosine to odd indices\n",
        "        pe[:, 1::2] = torch.cos(position * div_term)\n",
        "\n",
        "        # Register as buffer (not model parameter)\n",
        "        self.register_buffer('pe', pe.unsqueeze(0))\n",
        "\n",
        "    def forward(self, x):\n",
        "        # x shape: (batch_size, seq_length, embed_dim)\n",
        "        # Add positional encoding\n",
        "        return x + self.pe[:, :x.size(1), :]\n",
        " # Test positional encoding\n",
        "pos_encoding = PositionalEncoding(embed_dim)\n",
        "embedded_with_pos = pos_encoding(embedded)\n",
        "print(f\"Shape after positional encoding: {embedded_with_pos.shape}\")\n",
        " # Visualize positional encodings\n",
        "plt.figure(figsize=(10, 6))\n",
        "plt.imshow(pos_encoding.pe[0, :20, :].cpu().numpy(), aspect='auto', cmap='viridis')\n",
        "plt.xlabel('Embedding Dimension')\n",
        "plt.ylabel('Position')\n",
        "plt.colorbar()\n",
        "plt.title('Positional Encodings')\n",
        "plt.show()"
      ],
      "metadata": {
        "colab": {
          "base_uri": "https://localhost:8080/",
          "height": 581
        },
        "id": "ak1-jWA6yXx6",
        "outputId": "bb36748e-c593-4c17-fce4-dc0630a2e5a4"
      },
      "execution_count": null,
      "outputs": [
        {
          "output_type": "stream",
          "name": "stdout",
          "text": [
            "Shape after positional encoding: torch.Size([3, 10, 32])\n"
          ]
        },
        {
          "output_type": "display_data",
          "data": {
            "text/plain": [
              "<Figure size 1000x600 with 2 Axes>"
            ],
            "image/png": "[encoded data removed]"
          },
          "metadata": {}
        }
      ]
    },
    {
      "cell_type": "markdown",
      "source": [
        " 2.6 Implementing Self-Attention Mechanism"
      ],
      "metadata": {
        "id": "Zy0nQ01oydxH"
      }
    },
    {
      "cell_type": "code",
      "source": [
        "class SelfAttention(nn.Module):\n",
        "    def __init__(self, embed_dim, num_heads):\n",
        "        super(SelfAttention, self).__init__()\n",
        "        self.embed_dim = embed_dim\n",
        "        self.num_heads = num_heads\n",
        "        self.head_dim = embed_dim // num_heads\n",
        "\n",
        "        assert embed_dim % num_heads == 0, \"embed_dim must be divisible by num_heads\"\n",
        "\n",
        "        # Single linear projection for Q, K, V\n",
        "        self.qkv = nn.Linear(embed_dim, embed_dim * 3)\n",
        "        self.fc_out = nn.Linear(embed_dim, embed_dim)\n",
        "\n",
        "    def forward(self, x, mask=None):\n",
        "        B, T, E = x.size()  # Batch size, Seq length, Embedding dim\n",
        "\n",
        "        # Project and split Q, K, V in one go: (B, T, 3 * E)\n",
        "        qkv = self.qkv(x)  # (B, T, 3 * E)\n",
        "        qkv = qkv.reshape(B, T, 3, self.num_heads, self.head_dim)\n",
        "        qkv = qkv.permute(2, 0, 3, 1, 4)  # (3, B, num_heads, T, head_dim)\n",
        "        queries, keys, values = qkv[0], qkv[1], qkv[2]  # Each: (B, num_heads, T, head_dim)\n",
        "\n",
        "        # Scaled Dot-Product Attention\n",
        "        scores = torch.matmul(queries, keys.transpose(-2, -1)) / (self.head_dim ** 0.5)  # (B, num_heads, T, T)\n",
        "\n",
        "        if mask is not None:\n",
        "            scores = scores.masked_fill(mask == 0, float(\"-inf\"))\n",
        "\n",
        "        attn = F.softmax(scores, dim=-1)\n",
        "        out = torch.matmul(attn, values)  # (B, num_heads, T, head_dim)\n",
        "\n",
        "        # Merge heads\n",
        "        out = out.transpose(1, 2).reshape(B, T, E)  # (B, T, embed_dim)\n",
        "        out = self.fc_out(out)  # Final linear projection\n",
        "\n",
        "        return out, attn\n",
        " # Create causal mask for language modeling\n",
        "def create_causal_mask(size):\n",
        "    mask = torch.tril(torch.ones(size, size))\n",
        "    return mask.unsqueeze(0).unsqueeze(0)  # (1, 1, size, size)\n",
        " # Test self-attention\n",
        "num_heads = 4\n",
        "attention = SelfAttention(embed_dim, num_heads)\n",
        "mask = create_causal_mask(seq_length).to(device)\n",
        "attention_output, attention_weights = attention(embedded_with_pos, mask)\n",
        "print(f\"Attention output shape: {attention_output.shape}\")\n",
        "print(f\"Attention weights shape: {attention_weights.shape}\")\n",
        "# Visualize attention weights for the first head\n",
        "plt.figure(figsize=(8, 6))\n",
        "plt.imshow(attention_weights[0, 0, :, :].detach().cpu().numpy(), cmap='viridis')\n",
        "plt.xlabel('Key Position')\n",
        "plt.ylabel('Query Position')\n",
        "plt.colorbar()\n",
        "plt.title('Self-Attention Weights (First Head)')\n",
        "plt.show()"
      ],
      "metadata": {
        "colab": {
          "base_uri": "https://localhost:8080/",
          "height": 599
        },
        "id": "PpkMcVhezGia",
        "outputId": "fbee4106-d125-4c9e-bee3-5b5295704a18"
      },
      "execution_count": null,
      "outputs": [
        {
          "output_type": "stream",
          "name": "stdout",
          "text": [
            "Attention output shape: torch.Size([3, 10, 32])\n",
            "Attention weights shape: torch.Size([3, 4, 10, 10])\n"
          ]
        },
        {
          "output_type": "display_data",
          "data": {
            "text/plain": [
              "<Figure size 800x600 with 2 Axes>"
            ],
            "image/png": "[encoded data removed]"
          },
          "metadata": {}
        }
      ]
    },
    {
      "cell_type": "markdown",
      "source": [
        " 2.7 Implementing Feed-Forward Network"
      ],
      "metadata": {
        "id": "49GLC8vDyfgy"
      }
    },
    {
      "cell_type": "code",
      "source": [
        "class FeedForward(nn.Module):\n",
        "    def __init__(self, embed_dim, ff_dim):\n",
        "        super(FeedForward, self).__init__()\n",
        "        self.fc1 = nn.Linear(embed_dim, ff_dim)\n",
        "        self.fc2 = nn.Linear(ff_dim, embed_dim)\n",
        "        self.activation = nn.GELU()  # GELU activation as used in modern transformers\n",
        "\n",
        "    def forward(self, x):\n",
        "        # x shape: (batch_size, seq_length, embed_dim)\n",
        "        x = self.fc1(x)  # (batch_size, seq_length, ff_dim)\n",
        "        x = self.activation(x)\n",
        "        x = self.fc2(x)  # (batch_size, seq_length, embed_dim)\n",
        "        return x\n",
        " # Test feed-forward network\n",
        "ff_dim = embed_dim * 4  # Common practice to use 4x the embedding dimension\n",
        "feed_forward = FeedForward(embed_dim, ff_dim)\n",
        "ff_output = feed_forward(attention_output)\n",
        "print(f\"Feed-forward output shape: {ff_output.shape}\")"
      ],
      "metadata": {
        "colab": {
          "base_uri": "https://localhost:8080/"
        },
        "id": "0s1Qb_ajzY9B",
        "outputId": "67238be1-9181-4e66-83d3-bb0d68cc9a04"
      },
      "execution_count": null,
      "outputs": [
        {
          "output_type": "stream",
          "name": "stdout",
          "text": [
            "Feed-forward output shape: torch.Size([3, 10, 32])\n"
          ]
        }
      ]
    },
    {
      "cell_type": "markdown",
      "source": [
        "2.8 Implementing a Transformer Block"
      ],
      "metadata": {
        "id": "Kts-ETnSyh2w"
      }
    },
    {
      "cell_type": "code",
      "source": [
        "class TransformerBlock(nn.Module):\n",
        "    def __init__(self, embed_dim, num_heads, ff_dim, dropout=0.1):\n",
        "        super(TransformerBlock, self).__init__()\n",
        "\n",
        "        self.norm1 = nn.LayerNorm(embed_dim)\n",
        "        self.attention = SelfAttention(embed_dim, num_heads)\n",
        "        self.dropout1 = nn.Dropout(dropout)\n",
        "\n",
        "        self.norm2 = nn.LayerNorm(embed_dim)\n",
        "        self.feed_forward = FeedForward(embed_dim, ff_dim)\n",
        "        self.dropout2 = nn.Dropout(dropout)\n",
        "\n",
        "    def forward(self, x, mask=None):\n",
        "        # Pre-LN before attention\n",
        "        norm_x = self.norm1(x)\n",
        "        attention_output, _ = self.attention(norm_x, mask)\n",
        "        x = x + self.dropout1(attention_output)  # Residual connection\n",
        "\n",
        "        # Pre-LN before feed-forward\n",
        "        norm_x = self.norm2(x)\n",
        "        ff_output = self.feed_forward(norm_x)\n",
        "        x = x + self.dropout2(ff_output)  # Residual connection\n",
        "\n",
        "        return x\n",
        "\n",
        "embed_dim = 32\n",
        "transformer_block = TransformerBlock(embed_dim, num_heads, ff_dim)\n",
        "block_output = transformer_block(embedded_with_pos, mask)\n",
        "print(f\"Transformer block output shape: {block_output.shape}\")\n",
        " # Test transformer block\n",
        "transformer_block = TransformerBlock(embed_dim, num_heads, ff_dim)\n",
        "block_output = transformer_block(embedded_with_pos, mask)\n",
        "print(f\"Transformer block output shape: {block_output.shape}\")"
      ],
      "metadata": {
        "colab": {
          "base_uri": "https://localhost:8080/"
        },
        "id": "3H-xnsd0zgEI",
        "outputId": "3ef805f1-fbb2-4830-e22b-346eef2a8c4d"
      },
      "execution_count": null,
      "outputs": [
        {
          "output_type": "stream",
          "name": "stdout",
          "text": [
            "Transformer block output shape: torch.Size([3, 10, 32])\n",
            "Transformer block output shape: torch.Size([3, 10, 32])\n"
          ]
        }
      ]
    },
    {
      "cell_type": "markdown",
      "source": [
        " 2.9 Implementing the Complete Mini Language Model"
      ],
      "metadata": {
        "id": "ZMcV5NPxykTz"
      }
    },
    {
      "cell_type": "code",
      "source": [
        "class MiniLanguageModel(nn.Module):\n",
        "    def __init__(self, vocab_size, embed_dim, num_heads, ff_dim, num_layers, max_seq_length, dropout=0.1):\n",
        "        super(MiniLanguageModel, self).__init__()\n",
        "\n",
        "        self.embed_dim = embed_dim\n",
        "        self.embedding = EmbeddingLayer(vocab_size, embed_dim)\n",
        "        self.positional_encoding = PositionalEncoding(embed_dim, max_seq_length)\n",
        "\n",
        "        self.transformer_blocks = nn.ModuleList(\n",
        "            [TransformerBlock(embed_dim, num_heads, ff_dim, dropout) for _ in range(num_layers)]\n",
        "        )\n",
        "\n",
        "        self.fc_out = nn.Linear(embed_dim, vocab_size)\n",
        "        self.dropout = nn.Dropout(dropout)\n",
        "\n",
        "    def forward(self, x):\n",
        "        # Create causal mask\n",
        "        seq_length = x.shape[1]\n",
        "        mask = create_causal_mask(seq_length).to(x.device)\n",
        "\n",
        "        # Embedding and positional encoding\n",
        "        x = self.embedding(x)\n",
        "        x = self.positional_encoding(x)\n",
        "        x = self.dropout(x)\n",
        "\n",
        "        # Transformer blocks\n",
        "        for block in self.transformer_blocks:\n",
        "            x = block(x, mask)\n",
        "\n",
        "        # Output layer\n",
        "        x = self.fc_out(x)  # (batch_size, seq_length, vocab_size)\n",
        "\n",
        "        return x\n",
        " # Model hyperparameters\n",
        "vocab_size = len(tokenizer)\n",
        "embed_dim = 64\n",
        "num_heads = 4\n",
        "ff_dim = embed_dim * 4\n",
        "num_layers = 2\n",
        "max_seq_length = 100\n",
        "dropout = 0.1\n",
        " # Initialize the model\n",
        "model = MiniLanguageModel(\n",
        "    vocab_size=vocab_size,\n",
        "    embed_dim=embed_dim,\n",
        "    num_heads=num_heads,\n",
        "    ff_dim=ff_dim,\n",
        "    num_layers=num_layers,\n",
        "    max_seq_length=max_seq_length,\n",
        "    dropout=dropout\n",
        ").to(device)\n",
        " # Print model summary\n",
        "print(model)\n",
        " # Test forward pass\n",
        "sample_batch = inputs[:5].to(device)  # Take 5 examples\n",
        "output = model(sample_batch)\n",
        "print(f\"Model output shape: {output.shape}\")  # Should be (batch_size, seq_length, vocab_size)"
      ],
      "metadata": {
        "colab": {
          "base_uri": "https://localhost:8080/"
        },
        "id": "5iZe1EA2znbY",
        "outputId": "c7e93df3-c0ee-4faf-a569-8290a0d8ee0a"
      },
      "execution_count": null,
      "outputs": [
        {
          "output_type": "stream",
          "name": "stdout",
          "text": [
            "MiniLanguageModel(\n",
            "  (embedding): EmbeddingLayer(\n",
            "    (embedding): Embedding(498, 64)\n",
            "  )\n",
            "  (positional_encoding): PositionalEncoding()\n",
            "  (transformer_blocks): ModuleList(\n",
            "    (0-1): 2 x TransformerBlock(\n",
            "      (norm1): LayerNorm((64,), eps=1e-05, elementwise_affine=True)\n",
            "      (attention): SelfAttention(\n",
            "        (qkv): Linear(in_features=64, out_features=192, bias=True)\n",
            "        (fc_out): Linear(in_features=64, out_features=64, bias=True)\n",
            "      )\n",
            "      (dropout1): Dropout(p=0.1, inplace=False)\n",
            "      (norm2): LayerNorm((64,), eps=1e-05, elementwise_affine=True)\n",
            "      (feed_forward): FeedForward(\n",
            "        (fc1): Linear(in_features=64, out_features=256, bias=True)\n",
            "        (fc2): Linear(in_features=256, out_features=64, bias=True)\n",
            "        (activation): GELU(approximate='none')\n",
            "      )\n",
            "      (dropout2): Dropout(p=0.1, inplace=False)\n",
            "    )\n",
            "  )\n",
            "  (fc_out): Linear(in_features=64, out_features=498, bias=True)\n",
            "  (dropout): Dropout(p=0.1, inplace=False)\n",
            ")\n",
            "Model output shape: torch.Size([5, 10, 498])\n"
          ]
        }
      ]
    },
    {
      "cell_type": "markdown",
      "source": [
        "2.10 Training the Model"
      ],
      "metadata": {
        "id": "b-PUfEnoypTN"
      }
    },
    {
      "cell_type": "code",
      "source": [
        "def train_model(model, inputs, targets, batch_size=32, epochs=10, lr=3e-4):\n",
        "    \"\"\"Train the language model\"\"\"\n",
        "    # Define loss function and optimizer\n",
        "    criterion = nn.CrossEntropyLoss()\n",
        "    optimizer = torch.optim.Adam(model.parameters(), lr=lr)\n",
        "\n",
        "    # Create dataset and dataloader\n",
        "    dataset = torch.utils.data.TensorDataset(inputs, targets)\n",
        "    dataloader = torch.utils.data.DataLoader(dataset, batch_size=batch_size, shuffle=True)\n",
        "\n",
        "    # Training loop\n",
        "    model.train()\n",
        "    losses = []\n",
        "\n",
        "    for epoch in range(epochs):\n",
        "        epoch_loss = 0\n",
        "        for batch_idx, (batch_inputs, batch_targets) in enumerate(dataloader):\n",
        "            batch_inputs, batch_targets = batch_inputs.to(device), batch_targets.to(device)\n",
        "\n",
        "            # Forward pass\n",
        "            optimizer.zero_grad()\n",
        "            outputs = model(batch_inputs)\n",
        "\n",
        "            # Reshape outputs and targets for loss computation\n",
        "            outputs = outputs.reshape(-1, vocab_size)  # (batch_size * seq_length, vocab_size)\n",
        "            batch_targets = batch_targets.reshape(-1)  # (batch_size * seq_length)\n",
        "\n",
        "            # Compute loss\n",
        "            loss = criterion(outputs, batch_targets)\n",
        "\n",
        "            # Backward pass and optimization\n",
        "            loss.backward()\n",
        "            torch.nn.utils.clip_grad_norm_(model.parameters(), max_norm=1.0)  # Gradient clipping\n",
        "            optimizer.step()\n",
        "\n",
        "            epoch_loss += loss.item()\n",
        "\n",
        "            if batch_idx % 10 == 0:\n",
        "                print(f\"Epoch {epoch+1}/{epochs}, Batch {batch_idx}/{len(dataloader)}, Loss: {loss.item():.4f}\")\n",
        "\n",
        "        avg_epoch_loss = epoch_loss / len(dataloader)\n",
        "        losses.append(avg_epoch_loss)\n",
        "        print(f\"Epoch {epoch+1}/{epochs}, Average Loss: {avg_epoch_loss:.4f}\")\n",
        "\n",
        "    return losses\n",
        " # For the lab, we'll use a very small number of epochs\n",
        "epochs = 10\n",
        "batch_size = 64\n",
        "losses = train_model(model, inputs, targets, batch_size=batch_size, epochs=epochs)\n",
        " # Plot training loss\n",
        "plt.figure(figsize=(10, 5))\n",
        "plt.plot(losses)\n",
        "plt.xlabel('Epoch')\n",
        "plt.ylabel('Loss')\n",
        "plt.title('Training Loss')\n",
        "plt.grid(True)\n",
        "plt.show()"
      ],
      "metadata": {
        "colab": {
          "base_uri": "https://localhost:8080/",
          "height": 834
        },
        "id": "EqYpe7rmz2uR",
        "outputId": "74c15eaa-1fab-4cd9-edfe-9697209172de"
      },
      "execution_count": null,
      "outputs": [
        {
          "output_type": "stream",
          "name": "stdout",
          "text": [
            "Epoch 1/10, Batch 0/7, Loss: 14.8223\n",
            "Epoch 1/10, Average Loss: 14.6781\n",
            "Epoch 2/10, Batch 0/7, Loss: 14.0658\n",
            "Epoch 2/10, Average Loss: 13.8252\n",
            "Epoch 3/10, Batch 0/7, Loss: 13.5231\n",
            "Epoch 3/10, Average Loss: 12.9773\n",
            "Epoch 4/10, Batch 0/7, Loss: 12.6657\n",
            "Epoch 4/10, Average Loss: 12.3143\n",
            "Epoch 5/10, Batch 0/7, Loss: 11.9884\n",
            "Epoch 5/10, Average Loss: 11.5953\n",
            "Epoch 6/10, Batch 0/7, Loss: 11.0408\n",
            "Epoch 6/10, Average Loss: 10.9530\n",
            "Epoch 7/10, Batch 0/7, Loss: 10.3636\n",
            "Epoch 7/10, Average Loss: 10.3406\n",
            "Epoch 8/10, Batch 0/7, Loss: 10.3193\n",
            "Epoch 8/10, Average Loss: 9.7268\n",
            "Epoch 9/10, Batch 0/7, Loss: 9.5214\n",
            "Epoch 9/10, Average Loss: 9.1890\n",
            "Epoch 10/10, Batch 0/7, Loss: 9.0085\n",
            "Epoch 10/10, Average Loss: 8.5790\n"
          ]
        },
        {
          "output_type": "display_data",
          "data": {
            "text/plain": [
              "<Figure size 1000x500 with 1 Axes>"
            ],
            "image/png": "[encoded data removed]"
          },
          "metadata": {}
        }
      ]
    },
    {
      "cell_type": "markdown",
      "source": [
        "2.11 Generating Text with the Model"
      ],
      "metadata": {
        "id": "90oTG0vKyr4O"
      }
    },
    {
      "cell_type": "code",
      "source": [
        "def generate_text(model, tokenizer, prompt, max_length=100, temperature=1.0):\n",
        "    \"\"\"Generate text using the trained model\"\"\"\n",
        "    model.eval()\n",
        "\n",
        "    # Tokenize the prompt\n",
        "    prompt_tokens = tokenizer.encode(prompt)\n",
        "    input_ids = torch.tensor(prompt_tokens).unsqueeze(0).to(device)  # (1, prompt_length)\n",
        "\n",
        "    # Generate text\n",
        "    generated = list(prompt_tokens)\n",
        "\n",
        "    with torch.no_grad():\n",
        "        for _ in range(max_length):\n",
        "            # Take the last seq_length tokens if input is too long\n",
        "            if input_ids.size(1) > seq_length:\n",
        "                input_ids = input_ids[:, -seq_length:]\n",
        "\n",
        "            # Forward pass\n",
        "            outputs = model(input_ids)\n",
        "\n",
        "            # Get the next token probabilities\n",
        "            next_token_logits = outputs[:, -1, :] / temperature\n",
        "\n",
        "            # Sample from the distribution\n",
        "            probs = F.softmax(next_token_logits, dim=-1)\n",
        "            next_token = torch.multinomial(probs, num_samples=1)\n",
        "\n",
        "            # Add the next token to the sequence\n",
        "            input_ids = torch.cat([input_ids, next_token], dim=1)\n",
        "            generated.append(next_token.item())\n",
        "\n",
        "            # Stop if we generate the end of sentence token (if you have one)\n",
        "            # if next_token.item() == eos_token_id:\n",
        "            #     break\n",
        "\n",
        "    # Convert back to text\n",
        "    generated_text = tokenizer.decode(generated)\n",
        "\n",
        "    return generated_text\n",
        " # Generate text\n",
        "prompt = \"llms are\"\n",
        "generated_text = generate_text(\n",
        "    model=model,\n",
        "    tokenizer=tokenizer,\n",
        "    prompt=prompt,\n",
        "    max_length=12,\n",
        "    temperature=0.8\n",
        ")\n",
        "print(f\"Prompt: {prompt}\")\n",
        "print(f\"Generated text: {generated_text}\")"
      ],
      "metadata": {
        "colab": {
          "base_uri": "https://localhost:8080/"
        },
        "id": "imWEEkjx0Ccl",
        "outputId": "bc97ee24-e7a5-430f-ed9c-135613f8eb23"
      },
      "execution_count": null,
      "outputs": [
        {
          "output_type": "stream",
          "name": "stdout",
          "text": [
            "Prompt: llms are\n",
            "Generated text: llms are modules, several heads cross-lingual teacher balancing by training on understand language limited\n"
          ]
        }
      ]
    },
    {
      "cell_type": "markdown",
      "source": [
        " Exercise 1: Implement a Word-Level Tokenizer"
      ],
      "metadata": {
        "id": "W1Qns_uuyt2l"
      }
    },
    {
      "cell_type": "markdown",
      "source": [
        " Exercise 2: Add Layer Normalization"
      ],
      "metadata": {
        "id": "WYQqszO0yxXT"
      }
    },
    {
      "cell_type": "markdown",
      "source": [
        "Exercise 3: Implement Multi-Head Attention with Matrix Multiplication"
      ],
      "metadata": {
        "id": "QCR2fl3Gy0NT"
      }
    },
    {
      "cell_type": "markdown",
      "source": [
        "Exercise 4: Performance Optimization"
      ],
      "metadata": {
        "id": "IbcK6Eixy2Kk"
      }
    },
    {
      "cell_type": "markdown",
      "source": [
        " Exercise 5: Experiment with Hyperparameters"
      ],
      "metadata": {
        "id": "4CP4erXJy4_6"
      }
    },
    {
      "cell_type": "markdown",
      "source": [],
      "metadata": {
        "id": "8o-luyOOy7DT"
      }
    }
  ]
}